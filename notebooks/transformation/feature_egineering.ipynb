{
 "cells": [
  {
   "cell_type": "markdown",
   "id": "b80b8f7f",
   "metadata": {},
   "source": [
    "Start"
   ]
  },
  {
   "cell_type": "markdown",
   "id": "c2756419",
   "metadata": {},
   "source": [
    "## Imports and Reload"
   ]
  },
  {
   "cell_type": "code",
   "execution_count": 96,
   "id": "9ad74d70",
   "metadata": {},
   "outputs": [
    {
     "name": "stdout",
     "output_type": "stream",
     "text": [
      "The autoreload extension is already loaded. To reload it, use:\n",
      "  %reload_ext autoreload\n"
     ]
    }
   ],
   "source": [
    "%load_ext autoreload\n",
    "%autoreload 2\n",
    "\n",
    "import pandas as pd\n",
    "from features.feature_engineering import build_feature_pipeline\n",
    "from sklearn.model_selection import train_test_split\n",
    "from features.encoder import ManualWOEEncoder as WOEEncoderWrapper\n",
    "from features.proxy_target_engineering import ProxyTargetEngineer\n"
   ]
  },
  {
   "cell_type": "markdown",
   "id": "1b10c64f",
   "metadata": {},
   "source": [
    "## Load Data"
   ]
  },
  {
   "cell_type": "code",
   "execution_count": 97,
   "id": "4934c45a",
   "metadata": {},
   "outputs": [
    {
     "data": {
      "text/plain": [
       "Index(['AccountId', 'CustomerId', 'ProviderId', 'ProductId', 'ProductCategory',\n",
       "       'ChannelId', 'Amount', 'Value', 'TransactionStartTime',\n",
       "       'PricingStrategy', 'FraudResult', 'transaction_hour', 'transaction_day',\n",
       "       'transaction_month', 'transaction_weekday', 'is_large_transaction',\n",
       "       'Amount_log', 'Amount_capped', 'is_outlier_Amount'],\n",
       "      dtype='object')"
      ]
     },
     "execution_count": 97,
     "metadata": {},
     "output_type": "execute_result"
    }
   ],
   "source": [
    "# Load your data\n",
    "df = pd.read_parquet('../../data/interim/clean_data.parquet')\n",
    "df.sample(5)\n",
    "df.columns"
   ]
  },
  {
   "cell_type": "markdown",
   "id": "b7184c5e",
   "metadata": {},
   "source": [
    "## Train/Val Split"
   ]
  },
  {
   "cell_type": "code",
   "execution_count": 98,
   "id": "b3f46304",
   "metadata": {},
   "outputs": [],
   "source": [
    "# Temporarily retain FraudResult as dummy y\n",
    "X = df.copy()\n",
    "y_dummy = df['FraudResult']\n",
    "\n",
    "X_train, X_val, y_dummy_train, y_dummy_val = train_test_split(\n",
    "    X,\n",
    "    y_dummy,\n",
    "    test_size=0.2,\n",
    "    random_state=42\n",
    ")\n"
   ]
  },
  {
   "cell_type": "markdown",
   "id": "b6316518",
   "metadata": {},
   "source": [
    "## Run Customer Aggregates"
   ]
  },
  {
   "cell_type": "code",
   "execution_count": 99,
   "id": "51925267",
   "metadata": {},
   "outputs": [],
   "source": [
    "pipeline = build_feature_pipeline()\n",
    "pipeline.fit(X_train, y_dummy_train)\n",
    "\n",
    "agg = pipeline.named_steps[\"customer_agg\"].transform(X_train)\n",
    "\n",
    "try:\n",
    "    agg_feature_names = pipeline.named_steps[\"customer_agg\"].get_feature_names_out()\n",
    "except AttributeError:\n",
    "    agg_feature_names = [\n",
    "        \"total_transaction_amount\",\n",
    "        \"avg_transaction_amount\",\n",
    "        \"transaction_count\",\n",
    "        \"std_transaction_amount\"\n",
    "    ]\n",
    "\n",
    "agg_df = pd.DataFrame(\n",
    "    data=agg,\n",
    "    columns=agg_feature_names,\n",
    "    index=X_train.index\n",
    ")\n",
    "\n",
    "X_train_augmented = X_train.join(agg_df)\n"
   ]
  },
  {
   "cell_type": "markdown",
   "id": "54189963",
   "metadata": {},
   "source": [
    "## New ProxyTargetEngineer Code (without Monetary)"
   ]
  },
  {
   "cell_type": "code",
   "execution_count": 100,
   "id": "adab27c7",
   "metadata": {},
   "outputs": [],
   "source": [
    "# Create ProxyTargetEngineer\n",
    "engineer = ProxyTargetEngineer(snapshot_date='2023-12-31')\n",
    "\n",
    "# Get the original RFM\n",
    "rfm = engineer.calculate_rfm(\n",
    "    df,\n",
    "    customer_id_col='CustomerId',\n",
    "    date_col='TransactionStartTime',\n",
    "    amount_col='Amount'\n",
    ")\n",
    "\n",
    "# Keep only Frequency and Recency\n",
    "rfm_simple = rfm[[\"CustomerId\", \"Frequency\", \"Recency\"]]\n",
    "\n",
    "# Scale features\n",
    "from sklearn.preprocessing import StandardScaler\n",
    "\n",
    "scaler = StandardScaler()\n",
    "scaled_values = scaler.fit_transform(rfm_simple[[\"Frequency\", \"Recency\"]])\n",
    "rfm_scaled = pd.DataFrame(\n",
    "    scaled_values,\n",
    "    columns=[\"Frequency_scaled\", \"Recency_scaled\"],\n",
    "    index=rfm_simple.index\n",
    ")\n",
    "rfm_simple_scaled = pd.concat([rfm_simple[[\"CustomerId\"]], rfm_scaled], axis=1)\n",
    "\n",
    "# K-Means clustering\n",
    "from sklearn.cluster import KMeans\n",
    "\n",
    "kmeans = KMeans(n_clusters=3, random_state=42)\n",
    "clusters = kmeans.fit_predict(rfm_scaled)\n",
    "\n",
    "rfm_simple_scaled[\"Cluster\"] = clusters\n"
   ]
  },
  {
   "cell_type": "markdown",
   "id": "d6842cc6",
   "metadata": {},
   "source": [
    "## Identify High-Risk Cluster"
   ]
  },
  {
   "cell_type": "code",
   "execution_count": 101,
   "id": "32f86050",
   "metadata": {},
   "outputs": [
    {
     "name": "stdout",
     "output_type": "stream",
     "text": [
      "         Frequency_scaled  Recency_scaled\n",
      "Cluster                                  \n",
      "2               -0.192189        1.544368\n",
      "0               -0.163627        0.309778\n",
      "1                0.186365       -0.867592\n",
      "High risk cluster: 2\n"
     ]
    }
   ],
   "source": [
    "# Analyze clusters\n",
    "cluster_summary = (\n",
    "    rfm_simple_scaled.groupby(\"Cluster\")[[\"Frequency_scaled\", \"Recency_scaled\"]]\n",
    "    .mean()\n",
    "    .sort_values([\"Frequency_scaled\", \"Recency_scaled\"])\n",
    ")\n",
    "print(cluster_summary)\n",
    "\n",
    "# Define high-risk cluster as the cluster with:\n",
    "# - lowest frequency\n",
    "# - highest recency\n",
    "high_risk_cluster = cluster_summary.index[0]\n",
    "print(\"High risk cluster:\", high_risk_cluster)\n",
    "\n",
    "# Assign high-risk label\n",
    "rfm_simple_scaled[\"is_high_risk\"] = (rfm_simple_scaled[\"Cluster\"] == high_risk_cluster).astype(int)\n",
    "\n",
    "# Prepare labels for merge\n",
    "high_risk_labels = rfm_simple_scaled[[\"CustomerId\", \"is_high_risk\"]]\n"
   ]
  },
  {
   "cell_type": "markdown",
   "id": "8921ed1f",
   "metadata": {},
   "source": [
    "## Merge Label into X_train_augmented"
   ]
  },
  {
   "cell_type": "code",
   "execution_count": 102,
   "id": "b1ed97f9",
   "metadata": {},
   "outputs": [],
   "source": [
    "# Merge new proxy label\n",
    "X_train_augmented = X_train_augmented.merge(\n",
    "    high_risk_labels,\n",
    "    on='CustomerId',\n",
    "    how='left'\n",
    ")\n",
    "\n",
    "# Fill missing labels\n",
    "X_train_augmented[\"is_high_risk\"] = X_train_augmented[\"is_high_risk\"].fillna(0).astype(int)\n"
   ]
  },
  {
   "cell_type": "code",
   "execution_count": 103,
   "id": "284b590e",
   "metadata": {},
   "outputs": [
    {
     "name": "stdout",
     "output_type": "stream",
     "text": [
      "Index(['AccountId', 'CustomerId', 'ProviderId', 'ProductId', 'ProductCategory',\n",
      "       'ChannelId', 'Amount', 'Value', 'TransactionStartTime',\n",
      "       'PricingStrategy', 'FraudResult', 'transaction_hour', 'transaction_day',\n",
      "       'transaction_month', 'transaction_weekday', 'is_large_transaction',\n",
      "       'Amount_log', 'Amount_capped', 'is_outlier_Amount',\n",
      "       'total_transaction_amount', 'avg_transaction_amount',\n",
      "       'std_transaction_amount', 'transaction_count', 'is_high_risk'],\n",
      "      dtype='object')\n"
     ]
    }
   ],
   "source": [
    "print(X_train_augmented.columns)\n"
   ]
  },
  {
   "cell_type": "markdown",
   "id": "52759889",
   "metadata": {},
   "source": [
    "## Now Set Proxy as Target"
   ]
  },
  {
   "cell_type": "code",
   "execution_count": 104,
   "id": "52ad0f26",
   "metadata": {},
   "outputs": [],
   "source": [
    "# Define new target\n",
    "y_train = X_train_augmented[\"is_high_risk\"]"
   ]
  },
  {
   "cell_type": "code",
   "execution_count": 105,
   "id": "f57bdbb8",
   "metadata": {},
   "outputs": [
    {
     "name": "stdout",
     "output_type": "stream",
     "text": [
      "Feature names shape: 23\n",
      "Passthrough columns: [0, 1, 10, 11, 12, 13, 14, 18]\n",
      "Count: 8\n",
      "Existing passthrough cols: []\n"
     ]
    }
   ],
   "source": [
    "feature_names = pipeline.named_steps[\"preprocessor\"].get_feature_names_out()\n",
    "print(\"Feature names shape:\", len(feature_names))\n",
    "\n",
    "ct = pipeline.named_steps[\"preprocessor\"]\n",
    "passthrough_cols = ct.transformers_[-1][2]\n",
    "print(\"Passthrough columns:\", passthrough_cols)\n",
    "print(\"Count:\", len(passthrough_cols))\n",
    "\n",
    "passthrough_cols_existing = [c for c in passthrough_cols if c in X_train_augmented.columns]\n",
    "print(\"Existing passthrough cols:\", passthrough_cols_existing)\n"
   ]
  },
  {
   "cell_type": "code",
   "execution_count": 106,
   "id": "b6a84e49",
   "metadata": {},
   "outputs": [],
   "source": [
    "# Fit preprocessor\n",
    "pipeline.named_steps[\"preprocessor\"].fit(X_train_augmented, y_train)\n",
    "\n",
    "# Transform data\n",
    "X_train_transformed = pipeline.named_steps[\"preprocessor\"].transform(X_train_augmented)\n",
    "\n",
    "feature_names = pipeline.named_steps[\"preprocessor\"].get_feature_names_out()\n",
    "\n",
    "processed_data = pd.DataFrame(\n",
    "    X_train_transformed,\n",
    "    columns=feature_names,\n",
    "    index=X_train_augmented.index\n",
    ")\n",
    "\n",
    "# Attach target\n",
    "processed_data[\"is_high_risk\"] = y_train.values\n"
   ]
  },
  {
   "cell_type": "code",
   "execution_count": 107,
   "id": "afc6c5ff",
   "metadata": {},
   "outputs": [
    {
     "data": {
      "text/html": [
       "<div>\n",
       "<style scoped>\n",
       "    .dataframe tbody tr th:only-of-type {\n",
       "        vertical-align: middle;\n",
       "    }\n",
       "\n",
       "    .dataframe tbody tr th {\n",
       "        vertical-align: top;\n",
       "    }\n",
       "\n",
       "    .dataframe thead th {\n",
       "        text-align: right;\n",
       "    }\n",
       "</style>\n",
       "<table border=\"1\" class=\"dataframe\">\n",
       "  <thead>\n",
       "    <tr style=\"text-align: right;\">\n",
       "      <th></th>\n",
       "      <th>datetime__TransactionStartTime_hour</th>\n",
       "      <th>datetime__TransactionStartTime_day</th>\n",
       "      <th>datetime__TransactionStartTime_month</th>\n",
       "      <th>datetime__TransactionStartTime_weekday</th>\n",
       "      <th>datetime__TransactionStartTime_year</th>\n",
       "      <th>numeric__Amount</th>\n",
       "      <th>numeric__Value</th>\n",
       "      <th>numeric__Amount_log</th>\n",
       "      <th>numeric__Amount_capped</th>\n",
       "      <th>numeric__total_transaction_amount</th>\n",
       "      <th>...</th>\n",
       "      <th>woe__ChannelId_woe</th>\n",
       "      <th>woe__ProviderId_woe</th>\n",
       "      <th>woe__ProductId_woe</th>\n",
       "      <th>onehot__PricingStrategy_0</th>\n",
       "      <th>onehot__PricingStrategy_1</th>\n",
       "      <th>onehot__PricingStrategy_2</th>\n",
       "      <th>onehot__PricingStrategy_4</th>\n",
       "      <th>onehot__is_large_transaction_0</th>\n",
       "      <th>onehot__is_large_transaction_1</th>\n",
       "      <th>is_high_risk</th>\n",
       "    </tr>\n",
       "  </thead>\n",
       "  <tbody>\n",
       "    <tr>\n",
       "      <th>0</th>\n",
       "      <td>8.0</td>\n",
       "      <td>13.0</td>\n",
       "      <td>1.0</td>\n",
       "      <td>6.0</td>\n",
       "      <td>2019.0</td>\n",
       "      <td>-0.056453</td>\n",
       "      <td>-0.080693</td>\n",
       "      <td>-1.100214</td>\n",
       "      <td>-0.217245</td>\n",
       "      <td>0.324373</td>\n",
       "      <td>...</td>\n",
       "      <td>0.051903</td>\n",
       "      <td>0.04972</td>\n",
       "      <td>-0.036485</td>\n",
       "      <td>0.0</td>\n",
       "      <td>0.0</td>\n",
       "      <td>1.0</td>\n",
       "      <td>0.0</td>\n",
       "      <td>1.0</td>\n",
       "      <td>0.0</td>\n",
       "      <td>0</td>\n",
       "    </tr>\n",
       "    <tr>\n",
       "      <th>1</th>\n",
       "      <td>16.0</td>\n",
       "      <td>21.0</td>\n",
       "      <td>12.0</td>\n",
       "      <td>4.0</td>\n",
       "      <td>2018.0</td>\n",
       "      <td>-0.015089</td>\n",
       "      <td>-0.040890</td>\n",
       "      <td>0.721107</td>\n",
       "      <td>0.201962</td>\n",
       "      <td>0.144422</td>\n",
       "      <td>...</td>\n",
       "      <td>0.003897</td>\n",
       "      <td>0.16135</td>\n",
       "      <td>0.291564</td>\n",
       "      <td>0.0</td>\n",
       "      <td>0.0</td>\n",
       "      <td>1.0</td>\n",
       "      <td>0.0</td>\n",
       "      <td>1.0</td>\n",
       "      <td>0.0</td>\n",
       "      <td>0</td>\n",
       "    </tr>\n",
       "    <tr>\n",
       "      <th>2</th>\n",
       "      <td>18.0</td>\n",
       "      <td>23.0</td>\n",
       "      <td>1.0</td>\n",
       "      <td>2.0</td>\n",
       "      <td>2019.0</td>\n",
       "      <td>-0.047531</td>\n",
       "      <td>-0.073382</td>\n",
       "      <td>-0.029698</td>\n",
       "      <td>-0.126828</td>\n",
       "      <td>0.145476</td>\n",
       "      <td>...</td>\n",
       "      <td>0.003897</td>\n",
       "      <td>0.16135</td>\n",
       "      <td>0.139829</td>\n",
       "      <td>0.0</td>\n",
       "      <td>0.0</td>\n",
       "      <td>1.0</td>\n",
       "      <td>0.0</td>\n",
       "      <td>1.0</td>\n",
       "      <td>0.0</td>\n",
       "      <td>0</td>\n",
       "    </tr>\n",
       "    <tr>\n",
       "      <th>3</th>\n",
       "      <td>11.0</td>\n",
       "      <td>12.0</td>\n",
       "      <td>1.0</td>\n",
       "      <td>5.0</td>\n",
       "      <td>2019.0</td>\n",
       "      <td>-0.056209</td>\n",
       "      <td>-0.080937</td>\n",
       "      <td>-1.264710</td>\n",
       "      <td>-0.214779</td>\n",
       "      <td>1.908076</td>\n",
       "      <td>...</td>\n",
       "      <td>0.051903</td>\n",
       "      <td>0.04972</td>\n",
       "      <td>-0.036485</td>\n",
       "      <td>0.0</td>\n",
       "      <td>0.0</td>\n",
       "      <td>1.0</td>\n",
       "      <td>0.0</td>\n",
       "      <td>1.0</td>\n",
       "      <td>0.0</td>\n",
       "      <td>0</td>\n",
       "    </tr>\n",
       "    <tr>\n",
       "      <th>4</th>\n",
       "      <td>7.0</td>\n",
       "      <td>8.0</td>\n",
       "      <td>2.0</td>\n",
       "      <td>4.0</td>\n",
       "      <td>2019.0</td>\n",
       "      <td>0.106567</td>\n",
       "      <td>0.080956</td>\n",
       "      <td>1.368067</td>\n",
       "      <td>1.434925</td>\n",
       "      <td>0.153514</td>\n",
       "      <td>...</td>\n",
       "      <td>0.003897</td>\n",
       "      <td>0.16135</td>\n",
       "      <td>0.291564</td>\n",
       "      <td>0.0</td>\n",
       "      <td>0.0</td>\n",
       "      <td>1.0</td>\n",
       "      <td>0.0</td>\n",
       "      <td>0.0</td>\n",
       "      <td>1.0</td>\n",
       "      <td>0</td>\n",
       "    </tr>\n",
       "  </tbody>\n",
       "</table>\n",
       "<p>5 rows × 24 columns</p>\n",
       "</div>"
      ],
      "text/plain": [
       "   datetime__TransactionStartTime_hour  datetime__TransactionStartTime_day  \\\n",
       "0                                  8.0                                13.0   \n",
       "1                                 16.0                                21.0   \n",
       "2                                 18.0                                23.0   \n",
       "3                                 11.0                                12.0   \n",
       "4                                  7.0                                 8.0   \n",
       "\n",
       "   datetime__TransactionStartTime_month  \\\n",
       "0                                   1.0   \n",
       "1                                  12.0   \n",
       "2                                   1.0   \n",
       "3                                   1.0   \n",
       "4                                   2.0   \n",
       "\n",
       "   datetime__TransactionStartTime_weekday  \\\n",
       "0                                     6.0   \n",
       "1                                     4.0   \n",
       "2                                     2.0   \n",
       "3                                     5.0   \n",
       "4                                     4.0   \n",
       "\n",
       "   datetime__TransactionStartTime_year  numeric__Amount  numeric__Value  \\\n",
       "0                               2019.0        -0.056453       -0.080693   \n",
       "1                               2018.0        -0.015089       -0.040890   \n",
       "2                               2019.0        -0.047531       -0.073382   \n",
       "3                               2019.0        -0.056209       -0.080937   \n",
       "4                               2019.0         0.106567        0.080956   \n",
       "\n",
       "   numeric__Amount_log  numeric__Amount_capped  \\\n",
       "0            -1.100214               -0.217245   \n",
       "1             0.721107                0.201962   \n",
       "2            -0.029698               -0.126828   \n",
       "3            -1.264710               -0.214779   \n",
       "4             1.368067                1.434925   \n",
       "\n",
       "   numeric__total_transaction_amount  ...  woe__ChannelId_woe  \\\n",
       "0                           0.324373  ...            0.051903   \n",
       "1                           0.144422  ...            0.003897   \n",
       "2                           0.145476  ...            0.003897   \n",
       "3                           1.908076  ...            0.051903   \n",
       "4                           0.153514  ...            0.003897   \n",
       "\n",
       "   woe__ProviderId_woe  woe__ProductId_woe  onehot__PricingStrategy_0  \\\n",
       "0              0.04972           -0.036485                        0.0   \n",
       "1              0.16135            0.291564                        0.0   \n",
       "2              0.16135            0.139829                        0.0   \n",
       "3              0.04972           -0.036485                        0.0   \n",
       "4              0.16135            0.291564                        0.0   \n",
       "\n",
       "   onehot__PricingStrategy_1  onehot__PricingStrategy_2  \\\n",
       "0                        0.0                        1.0   \n",
       "1                        0.0                        1.0   \n",
       "2                        0.0                        1.0   \n",
       "3                        0.0                        1.0   \n",
       "4                        0.0                        1.0   \n",
       "\n",
       "   onehot__PricingStrategy_4  onehot__is_large_transaction_0  \\\n",
       "0                        0.0                             1.0   \n",
       "1                        0.0                             1.0   \n",
       "2                        0.0                             1.0   \n",
       "3                        0.0                             1.0   \n",
       "4                        0.0                             0.0   \n",
       "\n",
       "   onehot__is_large_transaction_1  is_high_risk  \n",
       "0                             0.0             0  \n",
       "1                             0.0             0  \n",
       "2                             0.0             0  \n",
       "3                             0.0             0  \n",
       "4                             1.0             0  \n",
       "\n",
       "[5 rows x 24 columns]"
      ]
     },
     "execution_count": 107,
     "metadata": {},
     "output_type": "execute_result"
    }
   ],
   "source": [
    "processed_data.head()"
   ]
  },
  {
   "cell_type": "markdown",
   "id": "1e057b6d",
   "metadata": {},
   "source": [
    "## Check Correlation"
   ]
  },
  {
   "cell_type": "code",
   "execution_count": 108,
   "id": "654f74a7",
   "metadata": {},
   "outputs": [
    {
     "name": "stdout",
     "output_type": "stream",
     "text": [
      "Correlation between is_high_risk and FraudResult: 0.0049\n"
     ]
    }
   ],
   "source": [
    "processed_data[\"FraudResult\"] = df.loc[X_train_augmented.index, \"FraudResult\"].values\n",
    "\n",
    "correlation = processed_data[[\"is_high_risk\", \"FraudResult\"]].corr().loc[\"is_high_risk\", \"FraudResult\"]\n",
    "print(f\"Correlation between is_high_risk and FraudResult: {correlation:.4f}\")"
   ]
  },
  {
   "cell_type": "code",
   "execution_count": 109,
   "id": "9510068c",
   "metadata": {},
   "outputs": [
    {
     "name": "stdout",
     "output_type": "stream",
     "text": [
      "Distribution of is_high_risk:\n",
      "is_high_risk\n",
      "0    0.941787\n",
      "1    0.058213\n",
      "Name: proportion, dtype: float64\n"
     ]
    }
   ],
   "source": [
    "print(\"Distribution of is_high_risk:\")\n",
    "print(processed_data['is_high_risk'].value_counts(normalize=True))"
   ]
  },
  {
   "cell_type": "code",
   "execution_count": 110,
   "id": "416b9cb4",
   "metadata": {},
   "outputs": [
    {
     "name": "stdout",
     "output_type": "stream",
     "text": [
      "FraudResult       0    1    All\n",
      "is_high_risk                   \n",
      "0             71958  116  72074\n",
      "1              4444   11   4455\n",
      "All           76402  127  76529\n"
     ]
    }
   ],
   "source": [
    "cross_tab = pd.crosstab(processed_data['is_high_risk'], processed_data['FraudResult'], margins=True)\n",
    "print(cross_tab)"
   ]
  },
  {
   "cell_type": "code",
   "execution_count": 111,
   "id": "e104e04f",
   "metadata": {},
   "outputs": [
    {
     "name": "stdout",
     "output_type": "stream",
     "text": [
      "Correlation between is_high_risk and FraudResult: 0.0049\n"
     ]
    }
   ],
   "source": [
    "correlation = processed_data[['is_high_risk', 'FraudResult']].corr().loc['is_high_risk', 'FraudResult']\n",
    "print(f\"Correlation between is_high_risk and FraudResult: {correlation:.4f}\")"
   ]
  },
  {
   "cell_type": "code",
   "execution_count": 112,
   "id": "0ed3ffdd",
   "metadata": {},
   "outputs": [
    {
     "data": {
      "image/png": "[encoded data removed]",
      "text/plain": [
       "<Figure size 1200x400 with 2 Axes>"
      ]
     },
     "metadata": {},
     "output_type": "display_data"
    }
   ],
   "source": [
    "import matplotlib.pyplot as plt\n",
    "\n",
    "fig, ax = plt.subplots(1, 2, figsize=(12,4))\n",
    "processed_data['is_high_risk'].value_counts().plot(kind='bar', ax=ax[0], title='is_high_risk distribution')\n",
    "processed_data['FraudResult'].value_counts().plot(kind='bar', ax=ax[1], title='FraudResult distribution')\n",
    "plt.show()"
   ]
  },
  {
   "cell_type": "code",
   "execution_count": 113,
   "id": "3deedf10",
   "metadata": {},
   "outputs": [
    {
     "name": "stdout",
     "output_type": "stream",
     "text": [
      "                 Monetary  Frequency      Recency\n",
      "FraudResult                                      \n",
      "0            6.137164e+04  24.970445  1812.179230\n",
      "1            7.709334e+06  66.129630  1808.574074\n"
     ]
    }
   ],
   "source": [
    "rfm = engineer.calculate_rfm(\n",
    "    df,\n",
    "    customer_id_col=\"CustomerId\",\n",
    "    date_col=\"TransactionStartTime\",\n",
    "    amount_col=\"Amount\"\n",
    ")\n",
    "\n",
    "rfm = rfm.merge(df.groupby(\"CustomerId\")[\"FraudResult\"].max().reset_index(), on=\"CustomerId\", how=\"left\")\n",
    "\n",
    "print(rfm.groupby(\"FraudResult\").mean(numeric_only=True)\n",
    ")\n"
   ]
  },
  {
   "cell_type": "code",
   "execution_count": 115,
   "id": "a7708448",
   "metadata": {},
   "outputs": [
    {
     "data": {
      "text/plain": [
       "Index(['datetime__TransactionStartTime_hour',\n",
       "       'datetime__TransactionStartTime_day',\n",
       "       'datetime__TransactionStartTime_month',\n",
       "       'datetime__TransactionStartTime_weekday',\n",
       "       'datetime__TransactionStartTime_year', 'numeric__Amount',\n",
       "       'numeric__Value', 'numeric__Amount_log', 'numeric__Amount_capped',\n",
       "       'numeric__total_transaction_amount', 'numeric__avg_transaction_amount',\n",
       "       'numeric__transaction_count', 'numeric__std_transaction_amount',\n",
       "       'woe__ProductCategory_woe', 'woe__ChannelId_woe', 'woe__ProviderId_woe',\n",
       "       'woe__ProductId_woe', 'onehot__PricingStrategy_0',\n",
       "       'onehot__PricingStrategy_1', 'onehot__PricingStrategy_2',\n",
       "       'onehot__PricingStrategy_4', 'onehot__is_large_transaction_0',\n",
       "       'onehot__is_large_transaction_1', 'is_high_risk', 'FraudResult'],\n",
       "      dtype='object')"
      ]
     },
     "execution_count": 115,
     "metadata": {},
     "output_type": "execute_result"
    }
   ],
   "source": [
    "processed_data.columns"
   ]
  },
  {
   "cell_type": "code",
   "execution_count": 114,
   "id": "c0cbc9f1",
   "metadata": {},
   "outputs": [],
   "source": [
    "processed_data.to_parquet('../../data/processed/processed_data.parquet')"
   ]
  }
 ],
 "metadata": {
  "kernelspec": {
   "display_name": "venv",
   "language": "python",
   "name": "python3"
  },
  "language_info": {
   "codemirror_mode": {
    "name": "ipython",
    "version": 3
   },
   "file_extension": ".py",
   "mimetype": "text/x-python",
   "name": "python",
   "nbconvert_exporter": "python",
   "pygments_lexer": "ipython3",
   "version": "3.10.12"
  }
 },
 "nbformat": 4,
 "nbformat_minor": 5
}

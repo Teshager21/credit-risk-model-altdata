{
 "cells": [
  {
   "cell_type": "code",
   "execution_count": 18,
   "id": "a33624bc",
   "metadata": {},
   "outputs": [
    {
     "name": "stdout",
     "output_type": "stream",
     "text": [
      "The autoreload extension is already loaded. To reload it, use:\n",
      "  %reload_ext autoreload\n"
     ]
    }
   ],
   "source": [
    "%load_ext autoreload\n",
    "%autoreload 2"
   ]
  },
  {
   "cell_type": "code",
   "execution_count": 19,
   "id": "4e42009d",
   "metadata": {},
   "outputs": [],
   "source": [
    "from features.feature_engineering import build_feature_pipeline\n",
    "from sklearn.model_selection import train_test_split\n",
    "from features.encoder import ManualWOEEncoder as WOEEncoderWrapper\n",
    "\n",
    "import pandas as pd"
   ]
  },
  {
   "cell_type": "code",
   "execution_count": 20,
   "id": "3acdca7d",
   "metadata": {},
   "outputs": [],
   "source": [
    "df=pd.read_parquet('../../data/interim/clean_data.parquet')"
   ]
  },
  {
   "cell_type": "code",
   "execution_count": 21,
   "id": "574ccbdc",
   "metadata": {},
   "outputs": [
    {
     "data": {
      "text/html": [
       "<div>\n",
       "<style scoped>\n",
       "    .dataframe tbody tr th:only-of-type {\n",
       "        vertical-align: middle;\n",
       "    }\n",
       "\n",
       "    .dataframe tbody tr th {\n",
       "        vertical-align: top;\n",
       "    }\n",
       "\n",
       "    .dataframe thead th {\n",
       "        text-align: right;\n",
       "    }\n",
       "</style>\n",
       "<table border=\"1\" class=\"dataframe\">\n",
       "  <thead>\n",
       "    <tr style=\"text-align: right;\">\n",
       "      <th></th>\n",
       "      <th>AccountId</th>\n",
       "      <th>CustomerId</th>\n",
       "      <th>ProviderId</th>\n",
       "      <th>ProductId</th>\n",
       "      <th>ProductCategory</th>\n",
       "      <th>ChannelId</th>\n",
       "      <th>Amount</th>\n",
       "      <th>Value</th>\n",
       "      <th>TransactionStartTime</th>\n",
       "      <th>PricingStrategy</th>\n",
       "      <th>FraudResult</th>\n",
       "      <th>transaction_hour</th>\n",
       "      <th>transaction_day</th>\n",
       "      <th>transaction_month</th>\n",
       "      <th>transaction_weekday</th>\n",
       "      <th>is_large_transaction</th>\n",
       "      <th>Amount_log</th>\n",
       "      <th>Amount_capped</th>\n",
       "      <th>is_outlier_Amount</th>\n",
       "    </tr>\n",
       "  </thead>\n",
       "  <tbody>\n",
       "    <tr>\n",
       "      <th>53424</th>\n",
       "      <td>AccountId_4249</td>\n",
       "      <td>CustomerId_7343</td>\n",
       "      <td>ProviderId_4</td>\n",
       "      <td>ProductId_10</td>\n",
       "      <td>airtime</td>\n",
       "      <td>ChannelId_2</td>\n",
       "      <td>-30000.0</td>\n",
       "      <td>30000</td>\n",
       "      <td>2019-01-08 10:53:57+00:00</td>\n",
       "      <td>4</td>\n",
       "      <td>0</td>\n",
       "      <td>10</td>\n",
       "      <td>8</td>\n",
       "      <td>1</td>\n",
       "      <td>1</td>\n",
       "      <td>False</td>\n",
       "      <td>10.308986</td>\n",
       "      <td>-30000.0</td>\n",
       "      <td>0</td>\n",
       "    </tr>\n",
       "    <tr>\n",
       "      <th>31895</th>\n",
       "      <td>AccountId_571</td>\n",
       "      <td>CustomerId_908</td>\n",
       "      <td>ProviderId_6</td>\n",
       "      <td>ProductId_3</td>\n",
       "      <td>airtime</td>\n",
       "      <td>ChannelId_3</td>\n",
       "      <td>2000.0</td>\n",
       "      <td>2000</td>\n",
       "      <td>2018-12-18 15:43:44+00:00</td>\n",
       "      <td>2</td>\n",
       "      <td>0</td>\n",
       "      <td>15</td>\n",
       "      <td>18</td>\n",
       "      <td>12</td>\n",
       "      <td>1</td>\n",
       "      <td>False</td>\n",
       "      <td>7.601402</td>\n",
       "      <td>2000.0</td>\n",
       "      <td>0</td>\n",
       "    </tr>\n",
       "    <tr>\n",
       "      <th>93156</th>\n",
       "      <td>AccountId_4841</td>\n",
       "      <td>CustomerId_682</td>\n",
       "      <td>ProviderId_4</td>\n",
       "      <td>ProductId_6</td>\n",
       "      <td>financial_services</td>\n",
       "      <td>ChannelId_2</td>\n",
       "      <td>-50.0</td>\n",
       "      <td>50</td>\n",
       "      <td>2019-02-11 06:51:58+00:00</td>\n",
       "      <td>2</td>\n",
       "      <td>0</td>\n",
       "      <td>6</td>\n",
       "      <td>11</td>\n",
       "      <td>2</td>\n",
       "      <td>0</td>\n",
       "      <td>False</td>\n",
       "      <td>3.931826</td>\n",
       "      <td>-50.0</td>\n",
       "      <td>0</td>\n",
       "    </tr>\n",
       "    <tr>\n",
       "      <th>19709</th>\n",
       "      <td>AccountId_2237</td>\n",
       "      <td>CustomerId_2649</td>\n",
       "      <td>ProviderId_3</td>\n",
       "      <td>ProductId_21</td>\n",
       "      <td>utility_bill</td>\n",
       "      <td>ChannelId_3</td>\n",
       "      <td>10000.0</td>\n",
       "      <td>11200</td>\n",
       "      <td>2018-12-07 14:49:28+00:00</td>\n",
       "      <td>1</td>\n",
       "      <td>0</td>\n",
       "      <td>14</td>\n",
       "      <td>7</td>\n",
       "      <td>12</td>\n",
       "      <td>4</td>\n",
       "      <td>False</td>\n",
       "      <td>9.210440</td>\n",
       "      <td>10000.0</td>\n",
       "      <td>0</td>\n",
       "    </tr>\n",
       "    <tr>\n",
       "      <th>30549</th>\n",
       "      <td>AccountId_4421</td>\n",
       "      <td>CustomerId_4878</td>\n",
       "      <td>ProviderId_1</td>\n",
       "      <td>ProductId_15</td>\n",
       "      <td>financial_services</td>\n",
       "      <td>ChannelId_3</td>\n",
       "      <td>100000.0</td>\n",
       "      <td>100000</td>\n",
       "      <td>2018-12-17 11:45:46+00:00</td>\n",
       "      <td>2</td>\n",
       "      <td>0</td>\n",
       "      <td>11</td>\n",
       "      <td>17</td>\n",
       "      <td>12</td>\n",
       "      <td>0</td>\n",
       "      <td>True</td>\n",
       "      <td>11.512935</td>\n",
       "      <td>80000.0</td>\n",
       "      <td>1</td>\n",
       "    </tr>\n",
       "  </tbody>\n",
       "</table>\n",
       "</div>"
      ],
      "text/plain": [
       "            AccountId       CustomerId    ProviderId     ProductId  \\\n",
       "53424  AccountId_4249  CustomerId_7343  ProviderId_4  ProductId_10   \n",
       "31895   AccountId_571   CustomerId_908  ProviderId_6   ProductId_3   \n",
       "93156  AccountId_4841   CustomerId_682  ProviderId_4   ProductId_6   \n",
       "19709  AccountId_2237  CustomerId_2649  ProviderId_3  ProductId_21   \n",
       "30549  AccountId_4421  CustomerId_4878  ProviderId_1  ProductId_15   \n",
       "\n",
       "          ProductCategory    ChannelId    Amount   Value  \\\n",
       "53424             airtime  ChannelId_2  -30000.0   30000   \n",
       "31895             airtime  ChannelId_3    2000.0    2000   \n",
       "93156  financial_services  ChannelId_2     -50.0      50   \n",
       "19709        utility_bill  ChannelId_3   10000.0   11200   \n",
       "30549  financial_services  ChannelId_3  100000.0  100000   \n",
       "\n",
       "           TransactionStartTime  PricingStrategy  FraudResult  \\\n",
       "53424 2019-01-08 10:53:57+00:00                4            0   \n",
       "31895 2018-12-18 15:43:44+00:00                2            0   \n",
       "93156 2019-02-11 06:51:58+00:00                2            0   \n",
       "19709 2018-12-07 14:49:28+00:00                1            0   \n",
       "30549 2018-12-17 11:45:46+00:00                2            0   \n",
       "\n",
       "       transaction_hour  transaction_day  transaction_month  \\\n",
       "53424                10                8                  1   \n",
       "31895                15               18                 12   \n",
       "93156                 6               11                  2   \n",
       "19709                14                7                 12   \n",
       "30549                11               17                 12   \n",
       "\n",
       "       transaction_weekday  is_large_transaction  Amount_log  Amount_capped  \\\n",
       "53424                    1                 False   10.308986       -30000.0   \n",
       "31895                    1                 False    7.601402         2000.0   \n",
       "93156                    0                 False    3.931826          -50.0   \n",
       "19709                    4                 False    9.210440        10000.0   \n",
       "30549                    0                  True   11.512935        80000.0   \n",
       "\n",
       "       is_outlier_Amount  \n",
       "53424                  0  \n",
       "31895                  0  \n",
       "93156                  0  \n",
       "19709                  0  \n",
       "30549                  1  "
      ]
     },
     "execution_count": 21,
     "metadata": {},
     "output_type": "execute_result"
    }
   ],
   "source": [
    "df.sample(5)"
   ]
  },
  {
   "cell_type": "code",
   "execution_count": 22,
   "id": "11504604",
   "metadata": {},
   "outputs": [
    {
     "data": {
      "text/plain": [
       "Index(['AccountId', 'CustomerId', 'ProviderId', 'ProductId', 'ProductCategory',\n",
       "       'ChannelId', 'Amount', 'Value', 'TransactionStartTime',\n",
       "       'PricingStrategy', 'FraudResult', 'transaction_hour', 'transaction_day',\n",
       "       'transaction_month', 'transaction_weekday', 'is_large_transaction',\n",
       "       'Amount_log', 'Amount_capped', 'is_outlier_Amount'],\n",
       "      dtype='object')"
      ]
     },
     "execution_count": 22,
     "metadata": {},
     "output_type": "execute_result"
    }
   ],
   "source": [
    "df.columns"
   ]
  },
  {
   "cell_type": "code",
   "execution_count": 23,
   "id": "1137a7c0",
   "metadata": {},
   "outputs": [],
   "source": [
    "X = df\n",
    "y = df['FraudResult']\n",
    "\n",
    "X_train, X_val, y_train, y_val = train_test_split(X, X['FraudResult'], test_size=0.2, random_state=42)\n"
   ]
  },
  {
   "cell_type": "code",
   "execution_count": 24,
   "id": "8b993dbb",
   "metadata": {},
   "outputs": [],
   "source": [
    "pipeline = build_feature_pipeline()\n",
    "pipeline.fit(X_train, y_train)\n",
    "X_train_transformed = pipeline.transform(X_train)\n",
    "X_val_transformed = pipeline.transform(X_val)                   "
   ]
  },
  {
   "cell_type": "code",
   "execution_count": 25,
   "id": "695214e3",
   "metadata": {},
   "outputs": [
    {
     "name": "stdout",
     "output_type": "stream",
     "text": [
      "(76529, 23)\n",
      "(19133, 23)\n",
      "<class 'numpy.ndarray'>\n"
     ]
    }
   ],
   "source": [
    "print(X_train_transformed.shape)\n",
    "print(X_val_transformed.shape)\n",
    "print(type(X_train_transformed))"
   ]
  },
  {
   "cell_type": "code",
   "execution_count": 26,
   "id": "e233f094",
   "metadata": {},
   "outputs": [
    {
     "name": "stdout",
     "output_type": "stream",
     "text": [
      "['datetime__TransactionStartTime_hour'\n",
      " 'datetime__TransactionStartTime_dayofweek' 'numeric__Amount'\n",
      " 'numeric__Value' 'numeric__Amount_log' 'numeric__Amount_capped'\n",
      " 'numeric__total_transaction_amount' 'numeric__avg_transaction_amount'\n",
      " 'numeric__transaction_count' 'numeric__std_transaction_amount'\n",
      " 'woe__ProductCategory_woe' 'woe__ChannelId_woe' 'woe__ProviderId_woe'\n",
      " 'woe__ProductId_woe' 'onehot__PricingStrategy_0'\n",
      " 'onehot__PricingStrategy_1' 'onehot__PricingStrategy_2'\n",
      " 'onehot__PricingStrategy_4' 'onehot__is_large_transaction_0'\n",
      " 'onehot__is_large_transaction_1']\n"
     ]
    }
   ],
   "source": [
    "from sklearn.compose import ColumnTransformer\n",
    "\n",
    "preprocessor = pipeline.named_steps['preprocessor']\n",
    "\n",
    "# For sklearn >=1.0\n",
    "feature_names = preprocessor.get_feature_names_out()\n",
    "\n",
    "print(feature_names)"
   ]
  }
 ],
 "metadata": {
  "kernelspec": {
   "display_name": "venv",
   "language": "python",
   "name": "python3"
  },
  "language_info": {
   "codemirror_mode": {
    "name": "ipython",
    "version": 3
   },
   "file_extension": ".py",
   "mimetype": "text/x-python",
   "name": "python",
   "nbconvert_exporter": "python",
   "pygments_lexer": "ipython3",
   "version": "3.10.12"
  }
 },
 "nbformat": 4,
 "nbformat_minor": 5
}
